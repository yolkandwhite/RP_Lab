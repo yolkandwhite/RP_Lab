{
 "cells": [
  {
   "cell_type": "code",
   "execution_count": 183,
   "metadata": {},
   "outputs": [],
   "source": [
    "#itertools.combinations() 이용\n",
    "def subsequences(iter, n):\n",
    "    import itertools as it\n",
    "\n",
    "    comb = list(it.combinations(iter, n))\n",
    "\n",
    "    for i in range(len(comb)):\n",
    "        c = list(comb[i])\n",
    "        \n",
    "        for j in range(n):\n",
    "            print(c[j], end = \"\")\n",
    "            \n",
    "        print(\"\", end = \" \")\n"
   ]
  },
  {
   "cell_type": "code",
   "execution_count": 186,
   "metadata": {},
   "outputs": [
    {
     "name": "stdout",
     "output_type": "stream",
     "text": [
      "ABC ABD ACD BCD "
     ]
    }
   ],
   "source": [
    "sub = subsequences(\"ABCD\", 3)\n",
    "sub"
   ]
  },
  {
   "cell_type": "code",
   "execution_count": 187,
   "metadata": {},
   "outputs": [
    {
     "name": "stdout",
     "output_type": "stream",
     "text": [
      "012 013 023 123 "
     ]
    }
   ],
   "source": [
    "sub = subsequences(range(4), 3)\n",
    "sub"
   ]
  }
 ],
 "metadata": {
  "kernelspec": {
   "display_name": "pytorch",
   "language": "python",
   "name": "pytorch"
  },
  "language_info": {
   "codemirror_mode": {
    "name": "ipython",
    "version": 3
   },
   "file_extension": ".py",
   "mimetype": "text/x-python",
   "name": "python",
   "nbconvert_exporter": "python",
   "pygments_lexer": "ipython3",
   "version": "3.7.4"
  }
 },
 "nbformat": 4,
 "nbformat_minor": 2
}
