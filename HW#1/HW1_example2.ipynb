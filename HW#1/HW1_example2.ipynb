{
 "cells": [
  {
   "cell_type": "code",
   "execution_count": 36,
   "metadata": {},
   "outputs": [],
   "source": [
    "def check_parentheses(s):\n",
    "    import re\n",
    "    #입력받은 값 확인\n",
    "    print(\"input_expression : \", s)\n",
    "    \n",
    "    # 스트링 변환\n",
    "    y = ''.join(s)\n",
    "    \n",
    "    # 안의 알파벳 제거\n",
    "    p = re.compile('[a-z]')\n",
    "    q = p.sub('', y)\n",
    "    \n",
    "    # 공백 제거\n",
    "    nospace = re.sub(\" \",\"\", q)\n",
    "    print(\"확인된 괄호 :\", nospace)\n",
    "    \n",
    "    # 괄호쌍 지워나가기\n",
    "    brckts = ['()', '{}', '[]']\n",
    "    while any(x in nospace for x in brckts): \n",
    "        for br in brckts:\n",
    "            nospace = nospace.replace(br, '')\n",
    "    print(nospace)\n",
    "    if nospace == '':\n",
    "        print(\"Balanced\")\n",
    "    else:\n",
    "        print(\"Unbalanced\")"
   ]
  },
  {
   "cell_type": "code",
   "execution_count": 37,
   "metadata": {},
   "outputs": [
    {
     "name": "stdout",
     "output_type": "stream",
     "text": [
      "input_expression :  [' abc { def [ ghi ] { ( jkl ) } } ']\n",
      "확인된 괄호 : {[]{()}}\n",
      "\n",
      "Balanced\n"
     ]
    }
   ],
   "source": [
    "check_parentheses([ \" abc { def [ ghi ] { ( jkl ) } } \" ])"
   ]
  }
 ],
 "metadata": {
  "kernelspec": {
   "display_name": "pytorch",
   "language": "python",
   "name": "pytorch"
  },
  "language_info": {
   "codemirror_mode": {
    "name": "ipython",
    "version": 3
   },
   "file_extension": ".py",
   "mimetype": "text/x-python",
   "name": "python",
   "nbconvert_exporter": "python",
   "pygments_lexer": "ipython3",
   "version": "3.7.4"
  }
 },
 "nbformat": 4,
 "nbformat_minor": 2
}
