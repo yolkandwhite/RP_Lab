{
 "cells": [
  {
   "cell_type": "markdown",
   "metadata": {},
   "source": [
    "##### 주어진 dict 객체에서, value 를 기준으로 오름차순 정렬하여 tuple 객체로 반환하는 함수를 작성\n",
    "\n",
    "반환된 tuple 은 key 로 구성되어 있다."
   ]
  },
  {
   "cell_type": "code",
   "execution_count": 73,
   "metadata": {},
   "outputs": [],
   "source": [
    "def sort_tuple(input_dict):\n",
    "    \n",
    "    new_dict = {}\n",
    "    for k, v in input_dict.items():\n",
    "        new_dict[v] = k\n",
    "#     print(input_dict)\n",
    "#     print(new_dict)\n",
    "    \n",
    "    vals = input_dict.values()\n",
    "    list_vals = list(vals)\n",
    "    list_vals.sort()\n",
    "#     print(list_vals)\n",
    "    \n",
    "    for i in list_vals:\n",
    "        print(new_dict.get(i), end = \" \")"
   ]
  },
  {
   "cell_type": "code",
   "execution_count": 74,
   "metadata": {},
   "outputs": [
    {
     "name": "stdout",
     "output_type": "stream",
     "text": [
      "f c z a "
     ]
    }
   ],
   "source": [
    "input_dict = {'c':2, 'a':10, 'f':1, 'z':4}\n",
    "sort_tuple(input_dict)"
   ]
  },
  {
   "cell_type": "code",
   "execution_count": 70,
   "metadata": {},
   "outputs": [
    {
     "name": "stdout",
     "output_type": "stream",
     "text": [
      "10 2 1 4 "
     ]
    }
   ],
   "source": [
    "input_dict = {'2':'c', '10':'a', '1':'f', '4':'z'}\n",
    "sort_tuple(input_dict)"
   ]
  }
 ],
 "metadata": {
  "kernelspec": {
   "display_name": "pytorch",
   "language": "python",
   "name": "pytorch"
  },
  "language_info": {
   "codemirror_mode": {
    "name": "ipython",
    "version": 3
   },
   "file_extension": ".py",
   "mimetype": "text/x-python",
   "name": "python",
   "nbconvert_exporter": "python",
   "pygments_lexer": "ipython3",
   "version": "3.7.4"
  }
 },
 "nbformat": 4,
 "nbformat_minor": 2
}
