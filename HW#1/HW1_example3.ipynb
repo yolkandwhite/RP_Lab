{
 "cells": [
  {
   "cell_type": "markdown",
   "metadata": {},
   "source": [
    "#### 주어진 두 문자열이 순서만 다른 같은 문자들로 이루어졌는지 판단하는 함수 작성"
   ]
  },
  {
   "cell_type": "code",
   "execution_count": 89,
   "metadata": {},
   "outputs": [],
   "source": [
    "def check(str1, str2):\n",
    "    \n",
    "    list1 = list(str1)\n",
    "    list2 = list(str2)\n",
    "    \n",
    "    list1.sort()\n",
    "    list2.sort()\n",
    "    \n",
    "    result = list1 == list2\n",
    "   \n",
    "    return result"
   ]
  },
  {
   "cell_type": "code",
   "execution_count": 90,
   "metadata": {},
   "outputs": [
    {
     "name": "stdout",
     "output_type": "stream",
     "text": [
      "True\n"
     ]
    }
   ],
   "source": [
    "str1, str2 = \"abcd\", \"badc\"\n",
    "print(check(str1, str2))"
   ]
  },
  {
   "cell_type": "code",
   "execution_count": null,
   "metadata": {},
   "outputs": [],
   "source": []
  },
  {
   "cell_type": "code",
   "execution_count": null,
   "metadata": {},
   "outputs": [],
   "source": []
  },
  {
   "cell_type": "code",
   "execution_count": null,
   "metadata": {},
   "outputs": [],
   "source": []
  },
  {
   "cell_type": "code",
   "execution_count": null,
   "metadata": {},
   "outputs": [],
   "source": []
  },
  {
   "cell_type": "code",
   "execution_count": null,
   "metadata": {},
   "outputs": [],
   "source": [
    "def check(str1, str2):\n",
    "    import itertools as it\n",
    "    lgth1 = len(str1)\n",
    "    lgth2 = len(str2)\n",
    "    \n",
    "    list1 = list(str1)\n",
    "    list2 = list(str2)\n",
    "    \n",
    "#     print(list1)\n",
    "#     print(list2)\n",
    "    \n",
    "    list1.sort()\n",
    "    list2.sort()\n",
    "    \n",
    "#     print(list1)\n",
    "#     print(list2)\n",
    "    \n",
    "    result = list1 == list2\n",
    "\n",
    "#     comb1 = list(it.combinations(str1, 1))\n",
    "#     comb2 = list(it.combinations(str2, 1))\n",
    "    \n",
    "#     print(comb1)\n",
    "#     print(comb2)\n",
    "    \n",
    "#     set_1 = set(comb1)\n",
    "#     set_2 = set(comb2)\n",
    "    \n",
    "#     print(set_1)\n",
    "#     print(set_2)\n",
    "    \n",
    "#     print(len(list(set_1&set_2)))\n",
    "    \n",
    "#     result = len(list(set_1&set_2)) == lgth1 ==lgth2\n",
    "    \n",
    "    return result"
   ]
  }
 ],
 "metadata": {
  "kernelspec": {
   "display_name": "pytorch",
   "language": "python",
   "name": "pytorch"
  },
  "language_info": {
   "codemirror_mode": {
    "name": "ipython",
    "version": 3
   },
   "file_extension": ".py",
   "mimetype": "text/x-python",
   "name": "python",
   "nbconvert_exporter": "python",
   "pygments_lexer": "ipython3",
   "version": "3.7.4"
  }
 },
 "nbformat": 4,
 "nbformat_minor": 2
}
