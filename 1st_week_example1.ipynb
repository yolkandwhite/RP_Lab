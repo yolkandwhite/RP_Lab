{
 "cells": [
  {
   "cell_type": "code",
   "execution_count": 4,
   "metadata": {},
   "outputs": [],
   "source": [
    "def input_list_func():\n",
    "    global input_list\n",
    "    global box\n",
    "    global a\n",
    "    box = []\n",
    "    input_list = []\n",
    "    a = int(input(\"몇개의 문자열을 입력하시겠습니까? : \"))\n",
    "    while len(input_list) != a:\n",
    "        for i in range(a):\n",
    "            c = str(input(\"문자열 입력 : \"))\n",
    "            if len(c) != 3:\n",
    "                print(\"길이가 3이 아닙니다. 다시 입력하세요.\")\n",
    "            else:\n",
    "                input_list.append(c)\n",
    "            if len(input_list) == a:\n",
    "                break\n",
    "    return input_list\n",
    "\n",
    "def pair_count(): \n",
    "    input_list_func()\n",
    "    matrix = [[0 for col in range(3)] for row in range(a)]\n",
    "    for j in range(a):\n",
    "        for k in range(3):\n",
    "            matrix[j][k] = input_list[j][k]\n",
    "    #print(matrix)\n",
    "    u = 1\n",
    "    for m in range(a-1):\n",
    "        for l in range(u, a):\n",
    "            intersec = list(set(matrix[m]) & set(matrix[l]))\n",
    "            box.append(intersec)\n",
    "        u = u + 1\n",
    "    print(box)\n",
    "    v = 0\n",
    "    for g in range(len(box)):\n",
    "        z = len(box[g])\n",
    "        if z == 2:\n",
    "            v = v+1\n",
    "    print(v)\n",
    "    return v"
   ]
  },
  {
   "cell_type": "code",
   "execution_count": 5,
   "metadata": {},
   "outputs": [
    {
     "name": "stdout",
     "output_type": "stream",
     "text": [
      "몇개의 문자열을 입력하시겠습니까? : 4\n",
      "문자열 입력 : qew\n",
      "문자열 입력 : adw\n",
      "문자열 입력 : eqd\n",
      "문자열 입력 : eaq\n",
      "[['w'], ['e', 'q'], ['e', 'q'], ['d'], ['a'], ['e', 'q']]\n",
      "3\n"
     ]
    },
    {
     "data": {
      "text/plain": [
       "3"
      ]
     },
     "execution_count": 5,
     "metadata": {},
     "output_type": "execute_result"
    }
   ],
   "source": [
    "pair_count()"
   ]
  },
  {
   "cell_type": "code",
   "execution_count": null,
   "metadata": {},
   "outputs": [],
   "source": []
  }
 ],
 "metadata": {
  "kernelspec": {
   "display_name": "pytorch",
   "language": "python",
   "name": "pytorch"
  },
  "language_info": {
   "codemirror_mode": {
    "name": "ipython",
    "version": 3
   },
   "file_extension": ".py",
   "mimetype": "text/x-python",
   "name": "python",
   "nbconvert_exporter": "python",
   "pygments_lexer": "ipython3",
   "version": "3.7.4"
  }
 },
 "nbformat": 4,
 "nbformat_minor": 2
}
