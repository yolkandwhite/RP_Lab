{
 "cells": [
  {
   "cell_type": "code",
   "execution_count": 1,
   "metadata": {},
   "outputs": [],
   "source": [
    "from IPython.display import Image\n",
    "import torchvision.datasets as dsets\n",
    "import torchvision.transforms as transforms\n",
    "import os, sys\n",
    "import numpy as np\n",
    "import matplotlib.pyplot as plt\n",
    "import matplotlib.cm as cm\n",
    "import matplotlib.image as im\n",
    "from PIL import Image\n",
    "from struct import *\n",
    "\n",
    "#############################################################\n",
    "\n",
    "def download(dir):\n",
    "    \n",
    "    # 다운로드와 압축풀기\n",
    "    dir_str = dir + '/MNIST_dataset/'\n",
    "    \n",
    "    mnist_train = dsets.MNIST(root = dir_str,\n",
    "                         train = True,\n",
    "                         transform = transforms.ToPILImage(mode=None),\n",
    "                         download = True)\n",
    "\n",
    "    mnist_test = dsets.MNIST(root = dir_str,\n",
    "                         train = False,\n",
    "                         transform = transforms.ToPILImage(mode=None),\n",
    "                         download = True)\n",
    "    \n",
    "#############################################################\n",
    "    \n",
    "    # 디렉토리 생성\n",
    "    dir_main = dir + '/mnist_dataset/'\n",
    "    if not os.path.exists(dir_main):\n",
    "        os.mkdir(dir_main)\n",
    "    \n",
    "    dir_train = dir_main + '/train/'\n",
    "    if not os.path.exists(dir_train):\n",
    "        os.mkdir(dir_train)\n",
    "        \n",
    "    dir_test = dir_main + '/test/'\n",
    "    if not os.path.exists(dir_test):\n",
    "        os.mkdir(dir_test)\n",
    "        \n",
    "    for i in range(10):\n",
    "        labelnumberdir1 = dir_train + str(i)+'/'\n",
    "        if not os.path.exists(labelnumberdir1):\n",
    "            os.mkdir(labelnumberdir1)\n",
    "        labelnumberdir2 = dir_test + str(i)+'/'\n",
    "        if not os.path.exists(labelnumberdir2):\n",
    "            os.mkdir(labelnumberdir2)\n",
    "            \n",
    "#############################################################\n",
    "\n",
    "    # 파일 읽기\n",
    "    print(\"working on it!\")\n",
    "    fp1_image = open(dir + '/MNIST_dataset/MNIST/raw/train-images-idx3-ubyte','rb')\n",
    "    fp1_label = open(dir + '/MNIST_dataset/MNIST/raw/train-labels-idx1-ubyte','rb')\n",
    "    fp2_image = open(dir + '/MNIST_dataset/MNIST/raw/t10k-images-idx3-ubyte','rb')\n",
    "    fp2_label = open(dir + '/MNIST_dataset/MNIST/raw/t10k-labels-idx1-ubyte','rb')\n",
    "    \n",
    "    # train set과 test set의 필요없는 부분 날린다.\n",
    "    s = fp1_image.read(16)    #read first 16byte\n",
    "    l = fp1_label.read(8)     #read first  8byte\n",
    "    s_t = fp2_image.read(16)\n",
    "    l_t = fp2_label.read(8)\n",
    "    \n",
    "#############################################################\n",
    "    \n",
    "    # 숫자 데이터를 읽어서 해당하는 데이터를 이미지로 변환 후 해당 디렉토리에 저장   \n",
    "    \n",
    "    # 데이터 넣을 리스트 준비\n",
    "    lbl_train = [ [],[],[],[],[],[],[],[],[],[] ] #레이블별로 저장 (0 ~ 9)\n",
    "    lbl_test = [ [],[],[],[],[],[],[],[],[],[] ]\n",
    "    \n",
    "#############################################################\n",
    "\n",
    "# 60000개의 test dataset 이미지 변환\n",
    "    for i in range(60000):  #k를 0~9까지 돌리기 위함\n",
    "\n",
    "        s = fp1_image.read(784) #784바이트씩 읽음    784 = 28 * 28\n",
    "        l = fp1_label.read(1)   #1바이트씩 읽음\n",
    "\n",
    "        if not s:\n",
    "            break;\n",
    "        if not l:\n",
    "            break;\n",
    "\n",
    "        index_train = int(l[0]) #레이블값 읽기\n",
    "\n",
    "        #unpack\n",
    "        img = np.reshape(unpack(len(s)*'B',s), (28,28))       #unpack(format, string)\n",
    "        lbl_train[index_train].append(img) #각 숫자영역별로 해당이미지를 추가\n",
    "\n",
    "        #save image\n",
    "        savename = str(i)+\"mnist.jpg\"\n",
    "        index_train_str = str(index_train)\n",
    "        im.imsave(fname = dir_train+index_train_str+'/'+savename, arr = img)\n",
    "\n",
    "    print(\"train set done!\")\n",
    "    \n",
    "#############################################################\n",
    "    \n",
    "    # 10000개의 test dataset 이미지 변환\n",
    "    for i in range(10000):\n",
    "\n",
    "        s_t = fp2_image.read(784)\n",
    "        l_t = fp2_label.read(1)\n",
    "            \n",
    "        if not s_t:\n",
    "            break;\n",
    "        if not l_t:\n",
    "            break;\n",
    "\n",
    "        index_test = int(l_t[0]) # 레이블값 읽기\n",
    "        \n",
    "        # unpack\n",
    "        img_t = np.reshape(unpack(len(s_t)*'B',s_t), (28,28))\n",
    "        lbl_test[index_test].append(img_t)\n",
    "\n",
    "        # save image\n",
    "        savename = str(i)+\"mnist.png\"\n",
    "        index_test_str = str(index_test)\n",
    "        im.imsave(fname = dir_test+index_test_str+'/'+savename, arr = img_t)\n",
    "\n",
    "    print(\"test set done!\")\n",
    "    \n",
    "#############################################################\n",
    "\n",
    "    print(\"COMPLETE!\")"
   ]
  },
  {
   "cell_type": "code",
   "execution_count": 2,
   "metadata": {},
   "outputs": [
    {
     "data": {
      "text/plain": [
       "'C:\\\\Users\\\\USER\\\\Jupyter Notebook\\\\RP_Lab _DL'"
      ]
     },
     "execution_count": 2,
     "metadata": {},
     "output_type": "execute_result"
    }
   ],
   "source": [
    "pwd"
   ]
  },
  {
   "cell_type": "code",
   "execution_count": 3,
   "metadata": {},
   "outputs": [
    {
     "name": "stdout",
     "output_type": "stream",
     "text": [
      "Downloading http://yann.lecun.com/exdb/mnist/train-images-idx3-ubyte.gz to C:\\Users\\USER\\Jupyter Notebook\\RP_Lab _DL/MNIST_dataset/MNIST\\raw\\train-images-idx3-ubyte.gz\n"
     ]
    },
    {
     "name": "stderr",
     "output_type": "stream",
     "text": [
      "100.1%"
     ]
    },
    {
     "name": "stdout",
     "output_type": "stream",
     "text": [
      "Extracting C:\\Users\\USER\\Jupyter Notebook\\RP_Lab _DL/MNIST_dataset/MNIST\\raw\\train-images-idx3-ubyte.gz to C:\\Users\\USER\\Jupyter Notebook\\RP_Lab _DL/MNIST_dataset/MNIST\\raw\n",
      "Downloading http://yann.lecun.com/exdb/mnist/train-labels-idx1-ubyte.gz to C:\\Users\\USER\\Jupyter Notebook\\RP_Lab _DL/MNIST_dataset/MNIST\\raw\\train-labels-idx1-ubyte.gz\n"
     ]
    },
    {
     "name": "stderr",
     "output_type": "stream",
     "text": [
      "113.5%"
     ]
    },
    {
     "name": "stdout",
     "output_type": "stream",
     "text": [
      "Extracting C:\\Users\\USER\\Jupyter Notebook\\RP_Lab _DL/MNIST_dataset/MNIST\\raw\\train-labels-idx1-ubyte.gz to C:\\Users\\USER\\Jupyter Notebook\\RP_Lab _DL/MNIST_dataset/MNIST\\raw\n",
      "Downloading http://yann.lecun.com/exdb/mnist/t10k-images-idx3-ubyte.gz to C:\\Users\\USER\\Jupyter Notebook\\RP_Lab _DL/MNIST_dataset/MNIST\\raw\\t10k-images-idx3-ubyte.gz\n"
     ]
    },
    {
     "name": "stderr",
     "output_type": "stream",
     "text": [
      "100.4%"
     ]
    },
    {
     "name": "stdout",
     "output_type": "stream",
     "text": [
      "Extracting C:\\Users\\USER\\Jupyter Notebook\\RP_Lab _DL/MNIST_dataset/MNIST\\raw\\t10k-images-idx3-ubyte.gz to C:\\Users\\USER\\Jupyter Notebook\\RP_Lab _DL/MNIST_dataset/MNIST\\raw\n",
      "Downloading http://yann.lecun.com/exdb/mnist/t10k-labels-idx1-ubyte.gz to C:\\Users\\USER\\Jupyter Notebook\\RP_Lab _DL/MNIST_dataset/MNIST\\raw\\t10k-labels-idx1-ubyte.gz\n"
     ]
    },
    {
     "name": "stderr",
     "output_type": "stream",
     "text": [
      "180.4%"
     ]
    },
    {
     "name": "stdout",
     "output_type": "stream",
     "text": [
      "Extracting C:\\Users\\USER\\Jupyter Notebook\\RP_Lab _DL/MNIST_dataset/MNIST\\raw\\t10k-labels-idx1-ubyte.gz to C:\\Users\\USER\\Jupyter Notebook\\RP_Lab _DL/MNIST_dataset/MNIST\\raw\n",
      "Processing...\n",
      "Done!\n",
      "working on it!\n",
      "train set done!\n",
      "test set done!\n",
      "COMPLETE!\n"
     ]
    }
   ],
   "source": [
    "download('C:\\\\Users\\\\USER\\\\Jupyter Notebook\\\\RP_Lab _DL')"
   ]
  }
 ],
 "metadata": {
  "kernelspec": {
   "display_name": "pytorch",
   "language": "python",
   "name": "pytorch"
  },
  "language_info": {
   "codemirror_mode": {
    "name": "ipython",
    "version": 3
   },
   "file_extension": ".py",
   "mimetype": "text/x-python",
   "name": "python",
   "nbconvert_exporter": "python",
   "pygments_lexer": "ipython3",
   "version": "3.7.4"
  }
 },
 "nbformat": 4,
 "nbformat_minor": 2
}
