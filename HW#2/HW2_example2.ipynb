{
 "cells": [
  {
   "cell_type": "code",
   "execution_count": 50,
   "metadata": {},
   "outputs": [],
   "source": [
    "import numpy as np\n",
    "import PIL.Image as pilimg\n",
    "import os, sys, random\n",
    "import matplotlib.pylab as plt\n",
    "\n",
    "class DataSet:\n",
    "    \n",
    "#####################################################################\n",
    "    \n",
    "    def __init__(self, root, phase):\n",
    "        \n",
    "        #input 을 통해 디렉토리 설정\n",
    "        cur_dir = str(os.getcwd()) # 현재 working directory\n",
    "        self.root = cur_dir + \"\\\\\" + root + \"\\\\\"\n",
    "        if phase == 'train':\n",
    "            self.phase = self.root + \"train\"\n",
    "        else:\n",
    "            self.phase = self.root + \"test\"\n",
    "        \n",
    "        #리스트 안에 경로 넣기\n",
    "        #[[], [], [], [], [], [], [], [], []] 0~9 인덱스 안에 각각 저장됨\n",
    "        self.img_list = []\n",
    "        k=0\n",
    "        \n",
    "        for i in range(10):\n",
    "            res = []\n",
    "            path = self.phase + \"\\\\\"+str(k) #레이블 폴더까지의 경로\n",
    "            \n",
    "            for root, dirs, files in os.walk(path):\n",
    "                rootpath = os.path.join(os.path.abspath(path), root)\n",
    "                for file in files:\n",
    "                    filepath = os.path.join(rootpath, file)\n",
    "                    res.append(filepath)\n",
    "\n",
    "            self.img_list.append(res)\n",
    "            k = k + 1\n",
    "\n",
    "#####################################################################          \n",
    "            \n",
    "    def __getitem__(self, index):#튜플의 형태로 저장해야됨 ---> 처음에 리스트로 추가하다가 튜플로 변형한다.\n",
    "\n",
    "        temp = [[], [], [], [], [], [], [], [], [], []]\n",
    "\n",
    "        for i in range(10):\n",
    "            for j in range(len(self.img_list[i])):\n",
    "                im = pilimg.open(self.img_list[i][j])   #self.img_list[i][j] 이미지 데이터 한 장의 경로  \n",
    "                img_np = np.array(im) #한 장의 이미지 데이터 넘파이화 \n",
    "                img = pilimg.fromarray(img_np)\n",
    "                label = int(i)\n",
    "                tup = (img, label)\n",
    "                temp[i].append(tup)    #temp 리스트 안에 행마다(레이블마다) 해당 레이블에 맞는 튜플들이 저장되있는 형태\n",
    "                \n",
    "        pick = random.choice(temp[index])\n",
    "        img, label = pick\n",
    "\n",
    "        return img, label\n",
    "    \n",
    "#####################################################################"
   ]
  },
  {
   "cell_type": "markdown",
   "metadata": {},
   "source": [
    "### test set 가져오기"
   ]
  },
  {
   "cell_type": "code",
   "execution_count": 46,
   "metadata": {},
   "outputs": [],
   "source": [
    "dataset = DataSet(root = \"MNIST_dataset\", phase = \"test\")\n",
    "img, label = dataset[4]"
   ]
  },
  {
   "cell_type": "code",
   "execution_count": 48,
   "metadata": {
    "scrolled": true
   },
   "outputs": [
    {
     "name": "stdout",
     "output_type": "stream",
     "text": [
      "<PIL.Image.Image image mode=RGBA size=28x28 at 0x1D753B35088>\n",
      "4\n"
     ]
    },
    {
     "data": {
      "image/png": "[encoded data removed]",
      "text/plain": [
       "<Figure size 432x288 with 1 Axes>"
      ]
     },
     "metadata": {
      "needs_background": "light"
     },
     "output_type": "display_data"
    }
   ],
   "source": [
    "print(img)\n",
    "print(label)\n",
    "plt.imshow(img, cmap='gray')\n",
    "plt.show()"
   ]
  },
  {
   "cell_type": "code",
   "execution_count": 51,
   "metadata": {},
   "outputs": [],
   "source": [
    "dataset = DataSet(root = \"MNIST_dataset\", phase = \"train\")\n",
    "img, label = dataset[7]"
   ]
  },
  {
   "cell_type": "code",
   "execution_count": 52,
   "metadata": {},
   "outputs": [
    {
     "name": "stdout",
     "output_type": "stream",
     "text": [
      "<PIL.Image.Image image mode=RGB size=28x28 at 0x1D769EDBF48>\n",
      "7\n"
     ]
    },
    {
     "data": {
      "image/png": "[encoded data removed]",
      "text/plain": [
       "<Figure size 432x288 with 1 Axes>"
      ]
     },
     "metadata": {
      "needs_background": "light"
     },
     "output_type": "display_data"
    }
   ],
   "source": [
    "print(img)\n",
    "print(label)\n",
    "plt.imshow(img, cmap='gray')\n",
    "plt.show()"
   ]
  }
 ],
 "metadata": {
  "kernelspec": {
   "display_name": "pytorch",
   "language": "python",
   "name": "pytorch"
  },
  "language_info": {
   "codemirror_mode": {
    "name": "ipython",
    "version": 3
   },
   "file_extension": ".py",
   "mimetype": "text/x-python",
   "name": "python",
   "nbconvert_exporter": "python",
   "pygments_lexer": "ipython3",
   "version": "3.7.4"
  }
 },
 "nbformat": 4,
 "nbformat_minor": 2
}
