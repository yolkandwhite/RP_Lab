{
 "cells": [
  {
   "cell_type": "markdown",
   "metadata": {},
   "source": [
    "## MNIST dataset 을 Download 하고, 이미지로 변환하여 저장하는 함수를 작성"
   ]
  },
  {
   "cell_type": "code",
   "execution_count": 11,
   "metadata": {},
   "outputs": [],
   "source": [
    "import torchvision.datasets as dsets\n",
    "import torchvision.transforms as transforms\n",
    "import os, sys\n",
    "import numpy as np\n",
    "import matplotlib.pyplot as plt\n",
    "import matplotlib.cm as cm\n",
    "from PIL import Image\n",
    "\n",
    "from struct import *\n",
    "def download(dir):\n",
    "    \n",
    "    # 다운로드와 압축풀기\n",
    "    dir_str = dir + '/MNIST_dataset/'\n",
    "    \n",
    "    mnist_train = dsets.MNIST(root = dir_str,\n",
    "                         train = True,\n",
    "                         transform = transforms.ToPILImage(mode=None),\n",
    "                         download = True)\n",
    "\n",
    "    mnist_test = dsets.MNIST(root = dir_str,\n",
    "                         train = False,\n",
    "                         transform = transforms.ToPILImage(mode=None),\n",
    "                         download = True)\n",
    "    \n",
    "    \n",
    "    #디렉토리 생성\n",
    "    dir_main = dir + '/mnist_dataset/'\n",
    "    if not os.path.exists(dir_main):\n",
    "        os.mkdir(dir_main)\n",
    "    \n",
    "    dir_train = dir_main + '/train/'\n",
    "    if not os.path.exists(dir_train):\n",
    "        os.mkdir(dir_train)\n",
    "        \n",
    "    dir_test = dir_main + '/test/'\n",
    "    if not os.path.exists(dir_test):\n",
    "        os.mkdir(dir_test)\n",
    "        \n",
    "    for i in range(10):\n",
    "        labelnumberdir1 = dir_train + str(i)+'/'\n",
    "        if not os.path.exists(labelnumberdir1):\n",
    "            os.mkdir(labelnumberdir1)\n",
    "        labelnumberdir2 = dir_test + str(i)+'/'\n",
    "        if not os.path.exists(labelnumberdir2):\n",
    "            os.mkdir(labelnumberdir2)\n",
    "            \n",
    "    # 파일 읽기\n",
    "    fp1_image = open(dir + '/MNIST_dataset/MNIST/raw/train-images-idx3-ubyte','rb')\n",
    "    fp1_label = open(dir + '/MNIST_dataset/MNIST/raw/train-labels-idx1-ubyte','rb')\n",
    "    fp2_image = open(dir + '/MNIST_dataset/MNIST/raw/t10k-images-idx3-ubyte','rb')\n",
    "    fp2_label = open(dir + '/MNIST_dataset/MNIST/raw/t10k-labels-idx1-ubyte','rb')\n",
    "    \n",
    "    s = fp1_image.read(16)    #read first 16byte\n",
    "    l = fp1_label.read(8)     #read first  8byte\n",
    "    s_t = fp2_image.read(16)\n",
    "    l_t = fp2_label.read(8)\n",
    "            \n",
    "    #사용할 변수 초기화\n",
    "    img = np.zeros((28,28))                 #이미지가 저장될 부분 (28x28)\n",
    "    lbl = [ [],[],[],[],[],[],[],[],[],[] ] #숫자별로 저장 (0 ~ 9)\n",
    "    d = 0\n",
    "    l = 0\n",
    "    index=0 \n",
    "    \n",
    "    #숫자 데이터를 읽어서 해당하는 데이터를 지정하고 출력 \n",
    "    #read mnist and show number\n",
    "    for i in range(10):\n",
    "        k = i\n",
    "    \n",
    "        while True:    \n",
    "            s = fp1_image.read(784) #784바이트씩 읽음\n",
    "            l = fp1_label.read(1)   #1바이트씩 읽음\n",
    "            s_t = fp2_image.read(784)\n",
    "            l_t = fp2_label.read(1) \n",
    "        \n",
    "            if not s:\n",
    "                break;\n",
    "            if not l:\n",
    "                break;\n",
    "\n",
    "            index = int(l[0]) \n",
    "            index_t = int(l_t[0])\n",
    "        \n",
    "            #unpack\n",
    "            img = np.reshape(unpack(len(s)*'B',s), (28,28))       #unpack(format, string)\n",
    "            img_t = np.reshape(unpack(len(s_t)*'B',s_t), (28,28)) \n",
    "            lbl[index].append(img) #각 숫자영역별로 해당이미지를 추가\n",
    "            lbl[index].append(img_t)\n",
    "                \n",
    "            #print(img)\n",
    "            plt.imshow(img, cmap = cm.binary) #binary형태의 이미지 설정\n",
    "            fig = plt.gcf()\n",
    "            savename = str(k)+\"mnist.jpg\"\n",
    "            for o in range(0, 10):\n",
    "                if index == o:\n",
    "                    fig.savefig(dir_train+str(o)+'/'+savename)\n",
    "                \n",
    "            plt.imshow(img_t,cmap = cm.binary)\n",
    "            fig2 = plt.gcf()    \n",
    "            for p in range(0, 10):\n",
    "                if index_t == p:\n",
    "                    fig2.savefig(dir_test+str(p)+'/'+savename)\n",
    "                \n",
    "            k = k + 1    \n",
    "        \n",
    "            #print(np.shape(lbl)) #label별로 잘 지정됬는지 확인\n",
    "\n",
    "    print(\"Complete!\")"
   ]
  },
  {
   "cell_type": "markdown",
   "metadata": {},
   "source": [
    "돌아가긴하나 이미지파일로 변환하는데 상당히 오래걸립니다.\n",
    "\n",
    "matplotlib으로 이미지를 불러오고 저장하기 때문인 것 같은데 \n",
    "\n",
    "torchvision.datasets.Imagefolder을 이용하면 훨씬 빠르게 만들 수 있을 것 같습니다.\n",
    "\n",
    "Imagefolder를 사용한 코드도 조만간 만들겠습니다."
   ]
  },
  {
   "cell_type": "code",
   "execution_count": 15,
   "metadata": {},
   "outputs": [
    {
     "data": {
      "text/plain": [
       "'C:\\\\Users\\\\USER\\\\Jupyter Notebook\\\\RP_Lab _DL'"
      ]
     },
     "execution_count": 15,
     "metadata": {},
     "output_type": "execute_result"
    }
   ],
   "source": [
    "pwd"
   ]
  },
  {
   "cell_type": "code",
   "execution_count": null,
   "metadata": {},
   "outputs": [],
   "source": [
    "download('C:\\\\Users\\\\USER\\\\Jupyter Notebook\\\\RP_Lab _DL')"
   ]
  }
 ],
 "metadata": {
  "kernelspec": {
   "display_name": "pytorch",
   "language": "python",
   "name": "pytorch"
  },
  "language_info": {
   "codemirror_mode": {
    "name": "ipython",
    "version": 3
   },
   "file_extension": ".py",
   "mimetype": "text/x-python",
   "name": "python",
   "nbconvert_exporter": "python",
   "pygments_lexer": "ipython3",
   "version": "3.7.4"
  }
 },
 "nbformat": 4,
 "nbformat_minor": 2
}
